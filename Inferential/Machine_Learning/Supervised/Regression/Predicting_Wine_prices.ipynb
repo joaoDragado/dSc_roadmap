{
 "cells": [
  {
   "cell_type": "code",
   "execution_count": 1,
   "metadata": {
    "collapsed": true
   },
   "outputs": [],
   "source": [
    "import numpy as np\n",
    "import pandas as pd\n",
    "import matplotlib as mpl\n",
    "import matplotlib.pyplot as plt\n",
    "from statsmodels.formula.api import ols\n",
    "\n",
    "%matplotlib inline\n",
    "plt.style.use('ggplot')"
   ]
  },
  {
   "cell_type": "code",
   "execution_count": 2,
   "metadata": {},
   "outputs": [
    {
     "data": {
      "text/html": [
       "<div>\n",
       "<style>\n",
       "    .dataframe thead tr:only-child th {\n",
       "        text-align: right;\n",
       "    }\n",
       "\n",
       "    .dataframe thead th {\n",
       "        text-align: left;\n",
       "    }\n",
       "\n",
       "    .dataframe tbody tr th {\n",
       "        vertical-align: top;\n",
       "    }\n",
       "</style>\n",
       "<table border=\"1\" class=\"dataframe\">\n",
       "  <thead>\n",
       "    <tr style=\"text-align: right;\">\n",
       "      <th></th>\n",
       "      <th>Year</th>\n",
       "      <th>Price</th>\n",
       "      <th>WinterRain</th>\n",
       "      <th>AGST</th>\n",
       "      <th>HarvestRain</th>\n",
       "      <th>Age</th>\n",
       "      <th>FrancePop</th>\n",
       "    </tr>\n",
       "  </thead>\n",
       "  <tbody>\n",
       "    <tr>\n",
       "      <th>0</th>\n",
       "      <td>1952</td>\n",
       "      <td>7.4950</td>\n",
       "      <td>600</td>\n",
       "      <td>17.1167</td>\n",
       "      <td>160</td>\n",
       "      <td>31</td>\n",
       "      <td>43183.569</td>\n",
       "    </tr>\n",
       "    <tr>\n",
       "      <th>1</th>\n",
       "      <td>1953</td>\n",
       "      <td>8.0393</td>\n",
       "      <td>690</td>\n",
       "      <td>16.7333</td>\n",
       "      <td>80</td>\n",
       "      <td>30</td>\n",
       "      <td>43495.030</td>\n",
       "    </tr>\n",
       "    <tr>\n",
       "      <th>2</th>\n",
       "      <td>1955</td>\n",
       "      <td>7.6858</td>\n",
       "      <td>502</td>\n",
       "      <td>17.1500</td>\n",
       "      <td>130</td>\n",
       "      <td>28</td>\n",
       "      <td>44217.857</td>\n",
       "    </tr>\n",
       "    <tr>\n",
       "      <th>3</th>\n",
       "      <td>1957</td>\n",
       "      <td>6.9845</td>\n",
       "      <td>420</td>\n",
       "      <td>16.1333</td>\n",
       "      <td>110</td>\n",
       "      <td>26</td>\n",
       "      <td>45152.252</td>\n",
       "    </tr>\n",
       "    <tr>\n",
       "      <th>4</th>\n",
       "      <td>1958</td>\n",
       "      <td>6.7772</td>\n",
       "      <td>582</td>\n",
       "      <td>16.4167</td>\n",
       "      <td>187</td>\n",
       "      <td>25</td>\n",
       "      <td>45653.805</td>\n",
       "    </tr>\n",
       "  </tbody>\n",
       "</table>\n",
       "</div>"
      ],
      "text/plain": [
       "   Year   Price  WinterRain     AGST  HarvestRain  Age  FrancePop\n",
       "0  1952  7.4950         600  17.1167          160   31  43183.569\n",
       "1  1953  8.0393         690  16.7333           80   30  43495.030\n",
       "2  1955  7.6858         502  17.1500          130   28  44217.857\n",
       "3  1957  6.9845         420  16.1333          110   26  45152.252\n",
       "4  1958  6.7772         582  16.4167          187   25  45653.805"
      ]
     },
     "execution_count": 2,
     "metadata": {},
     "output_type": "execute_result"
    }
   ],
   "source": [
    "wine = pd.read_csv('../../data/wine.csv')\n",
    "wine.head()"
   ]
  },
  {
   "cell_type": "code",
   "execution_count": 3,
   "metadata": {},
   "outputs": [
    {
     "data": {
      "text/plain": [
       "<matplotlib.text.Text at 0xab49638c>"
      ]
     },
     "execution_count": 3,
     "metadata": {},
     "output_type": "execute_result"
    },
    {
     "data": {
      "image/png": "[encoded data removed]",
      "text/plain": [
       "<matplotlib.figure.Figure at 0xab4899ec>"
      ]
     },
     "metadata": {},
     "output_type": "display_data"
    }
   ],
   "source": [
    "plt.scatter(wine.AGST, wine.Price)\n",
    "plt.xlabel('Avg Growing Season Temp')\n",
    "plt.ylabel('Price (Log)')"
   ]
  },
  {
   "cell_type": "code",
   "execution_count": 5,
   "metadata": {},
   "outputs": [
    {
     "name": "stdout",
     "output_type": "stream",
     "text": [
      "                            OLS Regression Results                            \n",
      "==============================================================================\n",
      "Dep. Variable:                  Price   R-squared:                       0.435\n",
      "Model:                            OLS   Adj. R-squared:                  0.410\n",
      "Method:                 Least Squares   F-statistic:                     17.71\n",
      "Date:                Mon, 15 Jan 2018   Prob (F-statistic):           0.000335\n",
      "Time:                        17:32:34   Log-Likelihood:                -17.070\n",
      "No. Observations:                  25   AIC:                             38.14\n",
      "Df Residuals:                      23   BIC:                             40.58\n",
      "Df Model:                           1                                         \n",
      "Covariance Type:            nonrobust                                         \n",
      "==============================================================================\n",
      "                 coef    std err          t      P>|t|      [0.025      0.975]\n",
      "------------------------------------------------------------------------------\n",
      "Intercept     -3.4178      2.494     -1.371      0.184      -8.576       1.740\n",
      "AGST           0.6351      0.151      4.208      0.000       0.323       0.947\n",
      "==============================================================================\n",
      "Omnibus:                        0.986   Durbin-Watson:                   1.758\n",
      "Prob(Omnibus):                  0.611   Jarque-Bera (JB):                0.790\n",
      "Skew:                           0.055   Prob(JB):                        0.674\n",
      "Kurtosis:                       2.136   Cond. No.                         414.\n",
      "==============================================================================\n",
      "\n",
      "Warnings:\n",
      "[1] Standard Errors assume that the covariance matrix of the errors is correctly specified.\n"
     ]
    }
   ],
   "source": [
    "# Linear Regression (one variable)\n",
    "model1 = ols('Price ~ AGST', wine).fit()\n",
    "print(model1.summary()) \n",
    "#model1.summary()       # use without print for alternate format"
   ]
  },
  {
   "cell_type": "code",
   "execution_count": 17,
   "metadata": {},
   "outputs": [
    {
     "name": "stdout",
     "output_type": "stream",
     "text": [
      "Sum of Squared Errors (SSE) : 5.735\n",
      "Root Mean Square Error (RMSE) : 0.479\n"
     ]
    }
   ],
   "source": [
    "# Sum of Squared Errors (SSE) - Root Mean Square Error (RMSE)\n",
    "SSE_m1 = np.sum((model1.resid)**2)\n",
    "RSME_m1 = np.sqrt(SSE_m1 / wine.shape[0] )\n",
    "print('Sum of Squared Errors (SSE) : {:.3f}'.format(SSE_m1))\n",
    "print('Root Mean Square Error (RMSE) : {:.3f}'.format(RSME_m1))"
   ]
  },
  {
   "cell_type": "code",
   "execution_count": 74,
   "metadata": {},
   "outputs": [
    {
     "name": "stdout",
     "output_type": "stream",
     "text": [
      "                            OLS Regression Results                            \n",
      "==============================================================================\n",
      "Dep. Variable:                  Price   R-squared:                       0.707\n",
      "Model:                            OLS   Adj. R-squared:                  0.681\n",
      "Method:                 Least Squares   F-statistic:                     26.59\n",
      "Date:                Mon, 15 Jan 2018   Prob (F-statistic):           1.35e-06\n",
      "Time:                        11:32:31   Log-Likelihood:                -8.8461\n",
      "No. Observations:                  25   AIC:                             23.69\n",
      "Df Residuals:                      22   BIC:                             27.35\n",
      "Df Model:                           2                                         \n",
      "Covariance Type:            nonrobust                                         \n",
      "===============================================================================\n",
      "                  coef    std err          t      P>|t|      [95.0% Conf. Int.]\n",
      "-------------------------------------------------------------------------------\n",
      "Intercept      -2.2027      1.854     -1.188      0.248        -6.048     1.643\n",
      "AGST            0.6026      0.111      5.415      0.000         0.372     0.833\n",
      "HarvestRain    -0.0046      0.001     -4.525      0.000        -0.007    -0.002\n",
      "==============================================================================\n",
      "Omnibus:                        1.897   Durbin-Watson:                   1.775\n",
      "Prob(Omnibus):                  0.387   Jarque-Bera (JB):                1.096\n",
      "Skew:                          -0.511   Prob(JB):                        0.578\n",
      "Kurtosis:                       3.080   Cond. No.                     4.20e+03\n",
      "==============================================================================\n",
      "\n",
      "Warnings:\n",
      "[1] Standard Errors assume that the covariance matrix of the errors is correctly specified.\n",
      "[2] The condition number is large, 4.2e+03. This might indicate that there are\n",
      "strong multicollinearity or other numerical problems.\n"
     ]
    }
   ],
   "source": [
    "# Linear Regression (two variables)\n",
    "model2 = ols('Price ~ AGST + HarvestRain', wine).fit()\n",
    "print model2.summary()"
   ]
  },
  {
   "cell_type": "code",
   "execution_count": 19,
   "metadata": {},
   "outputs": [
    {
     "name": "stdout",
     "output_type": "stream",
     "text": [
      "Sum of Squared Errors (SSE) : 2.970\n",
      "Root Mean Square Error (RMSE) : 0.345\n"
     ]
    }
   ],
   "source": [
    "# Sum of Squared Errors (SSE) - Root Mean Square Error (RMSE)\n",
    "SSE_m2 = np.sum((model2.resid)**2)\n",
    "RSME_m2 = np.sqrt(SSE_m2 / wine.shape[0] )\n",
    "print('Sum of Squared Errors (SSE) : {:.3f}'.format(SSE_m2))\n",
    "print('Root Mean Square Error (RMSE) : {:.3f}'.format(RSME_m2))"
   ]
  },
  {
   "cell_type": "code",
   "execution_count": 75,
   "metadata": {},
   "outputs": [
    {
     "name": "stdout",
     "output_type": "stream",
     "text": [
      "                            OLS Regression Results                            \n",
      "==============================================================================\n",
      "Dep. Variable:                  Price   R-squared:                       0.829\n",
      "Model:                            OLS   Adj. R-squared:                  0.784\n",
      "Method:                 Least Squares   F-statistic:                     18.47\n",
      "Date:                Mon, 15 Jan 2018   Prob (F-statistic):           1.04e-06\n",
      "Time:                        11:32:36   Log-Likelihood:                -2.1043\n",
      "No. Observations:                  25   AIC:                             16.21\n",
      "Df Residuals:                      19   BIC:                             23.52\n",
      "Df Model:                           5                                         \n",
      "Covariance Type:            nonrobust                                         \n",
      "===============================================================================\n",
      "                  coef    std err          t      P>|t|      [95.0% Conf. Int.]\n",
      "-------------------------------------------------------------------------------\n",
      "Intercept      -0.4504     10.189     -0.044      0.965       -21.776    20.875\n",
      "AGST            0.6012      0.103      5.836      0.000         0.386     0.817\n",
      "HarvestRain    -0.0040      0.001     -4.523      0.000        -0.006    -0.002\n",
      "WinterRain      0.0010      0.001      1.963      0.064     -6.89e-05     0.002\n",
      "Age             0.0006      0.079      0.007      0.994        -0.165     0.166\n",
      "FrancePop   -4.953e-05      0.000     -0.297      0.770        -0.000     0.000\n",
      "==============================================================================\n",
      "Omnibus:                        1.769   Durbin-Watson:                   2.792\n",
      "Prob(Omnibus):                  0.413   Jarque-Bera (JB):                1.026\n",
      "Skew:                          -0.005   Prob(JB):                        0.599\n",
      "Kurtosis:                       2.008   Cond. No.                     8.41e+06\n",
      "==============================================================================\n",
      "\n",
      "Warnings:\n",
      "[1] Standard Errors assume that the covariance matrix of the errors is correctly specified.\n",
      "[2] The condition number is large, 8.41e+06. This might indicate that there are\n",
      "strong multicollinearity or other numerical problems.\n"
     ]
    }
   ],
   "source": [
    "# Linear Regression (all variables)\n",
    "model3 = ols('Price ~ AGST + HarvestRain + WinterRain + Age + FrancePop', wine).fit()\n",
    "print(model3.summary())"
   ]
  },
  {
   "cell_type": "code",
   "execution_count": 21,
   "metadata": {},
   "outputs": [
    {
     "name": "stdout",
     "output_type": "stream",
     "text": [
      "Sum of Squared Errors (SSE) : 1.732\n",
      "Root Mean Square Error (RMSE) : 0.263\n"
     ]
    }
   ],
   "source": [
    "# Sum of Squared Errors (SSE) - Root Mean Square Error (RMSE)\n",
    "SSE_m3 = np.sum((model3.resid)**2)\n",
    "RSME_m3 = np.sqrt(SSE_m3 / wine.shape[0] )\n",
    "print('Sum of Squared Errors (SSE) : {:.3f}'.format(SSE_m3))\n",
    "print('Root Mean Square Error (RMSE) : {:.3f}'.format(RSME_m3))"
   ]
  },
  {
   "cell_type": "code",
   "execution_count": 76,
   "metadata": {},
   "outputs": [
    {
     "name": "stdout",
     "output_type": "stream",
     "text": [
      "                            OLS Regression Results                            \n",
      "==============================================================================\n",
      "Dep. Variable:                  Price   R-squared:                       0.829\n",
      "Model:                            OLS   Adj. R-squared:                  0.794\n",
      "Method:                 Least Squares   F-statistic:                     24.17\n",
      "Date:                Mon, 15 Jan 2018   Prob (F-statistic):           2.04e-07\n",
      "Time:                        11:32:40   Log-Likelihood:                -2.1622\n",
      "No. Observations:                  25   AIC:                             14.32\n",
      "Df Residuals:                      20   BIC:                             20.42\n",
      "Df Model:                           4                                         \n",
      "Covariance Type:            nonrobust                                         \n",
      "===============================================================================\n",
      "                  coef    std err          t      P>|t|      [95.0% Conf. Int.]\n",
      "-------------------------------------------------------------------------------\n",
      "Intercept      -3.4300      1.766     -1.942      0.066        -7.114     0.254\n",
      "AGST            0.6072      0.099      6.152      0.000         0.401     0.813\n",
      "HarvestRain    -0.0040      0.001     -4.652      0.000        -0.006    -0.002\n",
      "WinterRain      0.0011      0.001      2.120      0.047      1.73e-05     0.002\n",
      "Age             0.0239      0.008      2.956      0.008         0.007     0.041\n",
      "==============================================================================\n",
      "Omnibus:                        1.814   Durbin-Watson:                   2.797\n",
      "Prob(Omnibus):                  0.404   Jarque-Bera (JB):                1.041\n",
      "Skew:                           0.034   Prob(JB):                        0.594\n",
      "Kurtosis:                       2.003   Cond. No.                     1.91e+04\n",
      "==============================================================================\n",
      "\n",
      "Warnings:\n",
      "[1] Standard Errors assume that the covariance matrix of the errors is correctly specified.\n",
      "[2] The condition number is large, 1.91e+04. This might indicate that there are\n",
      "strong multicollinearity or other numerical problems.\n"
     ]
    }
   ],
   "source": [
    "# Remove FrancePop\n",
    "model4 = ols('Price ~ AGST + HarvestRain + WinterRain + Age', wine).fit()\n",
    "print(model4.summary())"
   ]
  },
  {
   "cell_type": "code",
   "execution_count": 4,
   "metadata": {},
   "outputs": [
    {
     "data": {
      "text/html": [
       "<div>\n",
       "<table border=\"1\" class=\"dataframe\">\n",
       "  <thead>\n",
       "    <tr style=\"text-align: right;\">\n",
       "      <th></th>\n",
       "      <th>Year</th>\n",
       "      <th>Price</th>\n",
       "      <th>WinterRain</th>\n",
       "      <th>AGST</th>\n",
       "      <th>HarvestRain</th>\n",
       "      <th>Age</th>\n",
       "      <th>FrancePop</th>\n",
       "    </tr>\n",
       "  </thead>\n",
       "  <tbody>\n",
       "    <tr>\n",
       "      <th>Year</th>\n",
       "      <td>1.000000</td>\n",
       "      <td>-0.447768</td>\n",
       "      <td>0.016970</td>\n",
       "      <td>-0.246916</td>\n",
       "      <td>0.028009</td>\n",
       "      <td>-1.000000</td>\n",
       "      <td>0.994485</td>\n",
       "    </tr>\n",
       "    <tr>\n",
       "      <th>Price</th>\n",
       "      <td>-0.447768</td>\n",
       "      <td>1.000000</td>\n",
       "      <td>0.136651</td>\n",
       "      <td>0.659563</td>\n",
       "      <td>-0.563322</td>\n",
       "      <td>0.447768</td>\n",
       "      <td>-0.466862</td>\n",
       "    </tr>\n",
       "    <tr>\n",
       "      <th>WinterRain</th>\n",
       "      <td>0.016970</td>\n",
       "      <td>0.136651</td>\n",
       "      <td>1.000000</td>\n",
       "      <td>-0.321091</td>\n",
       "      <td>-0.275441</td>\n",
       "      <td>-0.016970</td>\n",
       "      <td>-0.001622</td>\n",
       "    </tr>\n",
       "    <tr>\n",
       "      <th>AGST</th>\n",
       "      <td>-0.246916</td>\n",
       "      <td>0.659563</td>\n",
       "      <td>-0.321091</td>\n",
       "      <td>1.000000</td>\n",
       "      <td>-0.064496</td>\n",
       "      <td>0.246916</td>\n",
       "      <td>-0.259162</td>\n",
       "    </tr>\n",
       "    <tr>\n",
       "      <th>HarvestRain</th>\n",
       "      <td>0.028009</td>\n",
       "      <td>-0.563322</td>\n",
       "      <td>-0.275441</td>\n",
       "      <td>-0.064496</td>\n",
       "      <td>1.000000</td>\n",
       "      <td>-0.028009</td>\n",
       "      <td>0.041264</td>\n",
       "    </tr>\n",
       "    <tr>\n",
       "      <th>Age</th>\n",
       "      <td>-1.000000</td>\n",
       "      <td>0.447768</td>\n",
       "      <td>-0.016970</td>\n",
       "      <td>0.246916</td>\n",
       "      <td>-0.028009</td>\n",
       "      <td>1.000000</td>\n",
       "      <td>-0.994485</td>\n",
       "    </tr>\n",
       "    <tr>\n",
       "      <th>FrancePop</th>\n",
       "      <td>0.994485</td>\n",
       "      <td>-0.466862</td>\n",
       "      <td>-0.001622</td>\n",
       "      <td>-0.259162</td>\n",
       "      <td>0.041264</td>\n",
       "      <td>-0.994485</td>\n",
       "      <td>1.000000</td>\n",
       "    </tr>\n",
       "  </tbody>\n",
       "</table>\n",
       "</div>"
      ],
      "text/plain": [
       "                 Year     Price  WinterRain      AGST  HarvestRain       Age  \\\n",
       "Year         1.000000 -0.447768    0.016970 -0.246916     0.028009 -1.000000   \n",
       "Price       -0.447768  1.000000    0.136651  0.659563    -0.563322  0.447768   \n",
       "WinterRain   0.016970  0.136651    1.000000 -0.321091    -0.275441 -0.016970   \n",
       "AGST        -0.246916  0.659563   -0.321091  1.000000    -0.064496  0.246916   \n",
       "HarvestRain  0.028009 -0.563322   -0.275441 -0.064496     1.000000 -0.028009   \n",
       "Age         -1.000000  0.447768   -0.016970  0.246916    -0.028009  1.000000   \n",
       "FrancePop    0.994485 -0.466862   -0.001622 -0.259162     0.041264 -0.994485   \n",
       "\n",
       "             FrancePop  \n",
       "Year          0.994485  \n",
       "Price        -0.466862  \n",
       "WinterRain   -0.001622  \n",
       "AGST         -0.259162  \n",
       "HarvestRain   0.041264  \n",
       "Age          -0.994485  \n",
       "FrancePop     1.000000  "
      ]
     },
     "execution_count": 4,
     "metadata": {},
     "output_type": "execute_result"
    }
   ],
   "source": [
    "# Investigating collinearity via pairwise correlation of DataFrame columns \n",
    "wine.corr()"
   ]
  },
  {
   "cell_type": "code",
   "execution_count": 29,
   "metadata": {},
   "outputs": [
    {
     "data": {
      "text/html": [
       "<div>\n",
       "<table border=\"1\" class=\"dataframe\">\n",
       "  <thead>\n",
       "    <tr style=\"text-align: right;\">\n",
       "      <th></th>\n",
       "      <th>Year</th>\n",
       "      <th>Price</th>\n",
       "      <th>WinterRain</th>\n",
       "      <th>AGST</th>\n",
       "      <th>HarvestRain</th>\n",
       "      <th>Age</th>\n",
       "      <th>FrancePop</th>\n",
       "    </tr>\n",
       "  </thead>\n",
       "  <tbody>\n",
       "    <tr>\n",
       "      <th>Year</th>\n",
       "      <td>1.000000</td>\n",
       "      <td>NaN</td>\n",
       "      <td>NaN</td>\n",
       "      <td>NaN</td>\n",
       "      <td>NaN</td>\n",
       "      <td>-1.000000</td>\n",
       "      <td>0.994485</td>\n",
       "    </tr>\n",
       "    <tr>\n",
       "      <th>Price</th>\n",
       "      <td>NaN</td>\n",
       "      <td>1.0</td>\n",
       "      <td>NaN</td>\n",
       "      <td>NaN</td>\n",
       "      <td>NaN</td>\n",
       "      <td>NaN</td>\n",
       "      <td>NaN</td>\n",
       "    </tr>\n",
       "    <tr>\n",
       "      <th>WinterRain</th>\n",
       "      <td>NaN</td>\n",
       "      <td>NaN</td>\n",
       "      <td>1.0</td>\n",
       "      <td>NaN</td>\n",
       "      <td>NaN</td>\n",
       "      <td>NaN</td>\n",
       "      <td>NaN</td>\n",
       "    </tr>\n",
       "    <tr>\n",
       "      <th>AGST</th>\n",
       "      <td>NaN</td>\n",
       "      <td>NaN</td>\n",
       "      <td>NaN</td>\n",
       "      <td>1.0</td>\n",
       "      <td>NaN</td>\n",
       "      <td>NaN</td>\n",
       "      <td>NaN</td>\n",
       "    </tr>\n",
       "    <tr>\n",
       "      <th>HarvestRain</th>\n",
       "      <td>NaN</td>\n",
       "      <td>NaN</td>\n",
       "      <td>NaN</td>\n",
       "      <td>NaN</td>\n",
       "      <td>1.0</td>\n",
       "      <td>NaN</td>\n",
       "      <td>NaN</td>\n",
       "    </tr>\n",
       "    <tr>\n",
       "      <th>Age</th>\n",
       "      <td>-1.000000</td>\n",
       "      <td>NaN</td>\n",
       "      <td>NaN</td>\n",
       "      <td>NaN</td>\n",
       "      <td>NaN</td>\n",
       "      <td>1.000000</td>\n",
       "      <td>-0.994485</td>\n",
       "    </tr>\n",
       "    <tr>\n",
       "      <th>FrancePop</th>\n",
       "      <td>0.994485</td>\n",
       "      <td>NaN</td>\n",
       "      <td>NaN</td>\n",
       "      <td>NaN</td>\n",
       "      <td>NaN</td>\n",
       "      <td>-0.994485</td>\n",
       "      <td>1.000000</td>\n",
       "    </tr>\n",
       "  </tbody>\n",
       "</table>\n",
       "</div>"
      ],
      "text/plain": [
       "                 Year  Price  WinterRain  AGST  HarvestRain       Age  \\\n",
       "Year         1.000000    NaN         NaN   NaN          NaN -1.000000   \n",
       "Price             NaN    1.0         NaN   NaN          NaN       NaN   \n",
       "WinterRain        NaN    NaN         1.0   NaN          NaN       NaN   \n",
       "AGST              NaN    NaN         NaN   1.0          NaN       NaN   \n",
       "HarvestRain       NaN    NaN         NaN   NaN          1.0       NaN   \n",
       "Age         -1.000000    NaN         NaN   NaN          NaN  1.000000   \n",
       "FrancePop    0.994485    NaN         NaN   NaN          NaN -0.994485   \n",
       "\n",
       "             FrancePop  \n",
       "Year          0.994485  \n",
       "Price              NaN  \n",
       "WinterRain         NaN  \n",
       "AGST               NaN  \n",
       "HarvestRain        NaN  \n",
       "Age          -0.994485  \n",
       "FrancePop     1.000000  "
      ]
     },
     "execution_count": 29,
     "metadata": {},
     "output_type": "execute_result"
    }
   ],
   "source": [
    "# Investigating collinearity via pairwise correlation of DataFrame columns \n",
    "wc = wine.corr()\n",
    "wc[((wc > 0.7) | ( wc <  - 0.7))]"
   ]
  },
  {
   "cell_type": "code",
   "execution_count": 89,
   "metadata": {},
   "outputs": [
    {
     "name": "stdout",
     "output_type": "stream",
     "text": [
      "                            OLS Regression Results                            \n",
      "==============================================================================\n",
      "Dep. Variable:                  Price   R-squared:                       0.754\n",
      "Model:                            OLS   Adj. R-squared:                  0.719\n",
      "Method:                 Least Squares   F-statistic:                     21.42\n",
      "Date:                Mon, 15 Jan 2018   Prob (F-statistic):           1.36e-06\n",
      "Time:                        11:41:24   Log-Likelihood:                -6.6922\n",
      "No. Observations:                  25   AIC:                             21.38\n",
      "Df Residuals:                      21   BIC:                             26.26\n",
      "Df Model:                           3                                         \n",
      "Covariance Type:            nonrobust                                         \n",
      "===============================================================================\n",
      "                  coef    std err          t      P>|t|      [95.0% Conf. Int.]\n",
      "-------------------------------------------------------------------------------\n",
      "Intercept      -4.3016      2.037     -2.112      0.047        -8.537    -0.066\n",
      "AGST            0.6810      0.112      6.097      0.000         0.449     0.913\n",
      "HarvestRain    -0.0039      0.001     -3.953      0.001        -0.006    -0.002\n",
      "WinterRain      0.0012      0.001      1.987      0.060     -5.47e-05     0.002\n",
      "==============================================================================\n",
      "Omnibus:                        0.621   Durbin-Watson:                   2.022\n",
      "Prob(Omnibus):                  0.733   Jarque-Bera (JB):                0.419\n",
      "Skew:                          -0.303   Prob(JB):                        0.811\n",
      "Kurtosis:                       2.810   Cond. No.                     1.88e+04\n",
      "==============================================================================\n",
      "\n",
      "Warnings:\n",
      "[1] Standard Errors assume that the covariance matrix of the errors is correctly specified.\n",
      "[2] The condition number is large, 1.88e+04. This might indicate that there are\n",
      "strong multicollinearity or other numerical problems.\n"
     ]
    }
   ],
   "source": [
    "# strong co-linearity between Age & francePop ; Remove Age and FrancePop\n",
    "model5 = ols('Price ~ AGST + HarvestRain + WinterRain', wine).fit()\n",
    "print(model5.summary())"
   ]
  },
  {
   "cell_type": "markdown",
   "metadata": {},
   "source": [
    "### Using our Regression Model on new data (out-of-sample accuracy )"
   ]
  },
  {
   "cell_type": "code",
   "execution_count": 31,
   "metadata": {},
   "outputs": [
    {
     "data": {
      "text/html": [
       "<div>\n",
       "<table border=\"1\" class=\"dataframe\">\n",
       "  <thead>\n",
       "    <tr style=\"text-align: right;\">\n",
       "      <th></th>\n",
       "      <th>Year</th>\n",
       "      <th>Price</th>\n",
       "      <th>WinterRain</th>\n",
       "      <th>AGST</th>\n",
       "      <th>HarvestRain</th>\n",
       "      <th>Age</th>\n",
       "      <th>FrancePop</th>\n",
       "    </tr>\n",
       "  </thead>\n",
       "  <tbody>\n",
       "    <tr>\n",
       "      <th>0</th>\n",
       "      <td>1979</td>\n",
       "      <td>6.9541</td>\n",
       "      <td>717</td>\n",
       "      <td>16.1667</td>\n",
       "      <td>122</td>\n",
       "      <td>4</td>\n",
       "      <td>54835.832</td>\n",
       "    </tr>\n",
       "    <tr>\n",
       "      <th>1</th>\n",
       "      <td>1980</td>\n",
       "      <td>6.4979</td>\n",
       "      <td>578</td>\n",
       "      <td>16.0000</td>\n",
       "      <td>74</td>\n",
       "      <td>3</td>\n",
       "      <td>55110.236</td>\n",
       "    </tr>\n",
       "  </tbody>\n",
       "</table>\n",
       "</div>"
      ],
      "text/plain": [
       "   Year   Price  WinterRain     AGST  HarvestRain  Age  FrancePop\n",
       "0  1979  6.9541         717  16.1667          122    4  54835.832\n",
       "1  1980  6.4979         578  16.0000           74    3  55110.236"
      ]
     },
     "execution_count": 31,
     "metadata": {},
     "output_type": "execute_result"
    }
   ],
   "source": [
    "# Read in test set\n",
    "wineTest = pd.read_csv(\"../data/wine_test.csv\")\n",
    "wineTest"
   ]
  },
  {
   "cell_type": "code",
   "execution_count": 95,
   "metadata": {},
   "outputs": [
    {
     "data": {
      "text/plain": [
       "array([ 6.76892463,  6.6849104 ])"
      ]
     },
     "execution_count": 95,
     "metadata": {},
     "output_type": "execute_result"
    }
   ],
   "source": [
    "# Make test set predictions\n",
    "predictTest = model4.predict(wineTest)\n",
    "predictTest"
   ]
  },
  {
   "cell_type": "code",
   "execution_count": 96,
   "metadata": {},
   "outputs": [
    {
     "data": {
      "text/plain": [
       "0.7944277602632012"
      ]
     },
     "execution_count": 96,
     "metadata": {},
     "output_type": "execute_result"
    }
   ],
   "source": [
    "# Compute R-squared\n",
    "SSE = np.sum((wineTest.Price - predictTest)**2)\n",
    "SST = np.sum((wineTest.Price - wine.Price.mean())**2)\n",
    "R_squared = 1 - SSE/SST\n",
    "R_squared"
   ]
  },
  {
   "cell_type": "code",
   "execution_count": 90,
   "metadata": {
    "collapsed": true
   },
   "outputs": [],
   "source": [
    "def rSqrd(variable, trainSet, testSet, model):\n",
    "    '''\n",
    "     function that computes R-squared on test sets,\n",
    "     and displays the difference between \n",
    "     the adjusted R-squared of the training set &\n",
    "     the  R-squared of the test set.\n",
    "    '''\n",
    "    predictTest = model.predict(testSet)\n",
    "    SSE = np.sum((testSet[variable] - predictTest)**2)\n",
    "    SST = np.sum((testSet[variable] - trainSet[variable].mean())**2)\n",
    "    R_squared = 1 - SSE/SST\n",
    "    print('R**2 Scores : Training Set (adjusted) : {:.3f}\\t|   Test Set : {:.3f}'.format( \n",
    "        model.rsquared_adj, R_squared))\n",
    "    #return R_squared"
   ]
  },
  {
   "cell_type": "code",
   "execution_count": 91,
   "metadata": {},
   "outputs": [
    {
     "name": "stdout",
     "output_type": "stream",
     "text": [
      "R**2 Scores : Training Set (adjusted) : 0.410\t|   Test Set : 0.788\n",
      "R**2 Scores : Training Set (adjusted) : 0.681\t|   Test Set : -0.082\n",
      "R**2 Scores : Training Set (adjusted) : 0.784\t|   Test Set : 0.757\n",
      "R**2 Scores : Training Set (adjusted) : 0.794\t|   Test Set : 0.794\n",
      "R**2 Scores : Training Set (adjusted) : 0.719\t|   Test Set : 0.263\n"
     ]
    }
   ],
   "source": [
    "for model in [model1, model2, model3, model4, model5]:\n",
    "    rSqrd('Price', wine, wineTest, model)"
   ]
  },
  {
   "cell_type": "markdown",
   "metadata": {
    "collapsed": true
   },
   "source": [
    "#### While Model Rsquared always increases by adding more exon (dependent) variables, the same is not true for Test Rsquared. This means that out-of-sample Rsquared can be an indicator of a good model :\n",
    "- __Keep adding dependent variables ; once test Rsquared starts dropping, we've gone too far.__\n",
    "- __The test Rsquared can be negative ; don't freak out !!__"
   ]
  },
  {
   "cell_type": "code",
   "execution_count": null,
   "metadata": {
    "collapsed": true
   },
   "outputs": [],
   "source": []
  }
 ],
 "metadata": {
  "kernelspec": {
   "display_name": "Python 3",
   "language": "python",
   "name": "python3"
  },
  "language_info": {
   "codemirror_mode": {
    "name": "ipython",
    "version": 3
   },
   "file_extension": ".py",
   "mimetype": "text/x-python",
   "name": "python",
   "nbconvert_exporter": "python",
   "pygments_lexer": "ipython3",
   "version": "3.6.1"
  }
 },
 "nbformat": 4,
 "nbformat_minor": 1
}
