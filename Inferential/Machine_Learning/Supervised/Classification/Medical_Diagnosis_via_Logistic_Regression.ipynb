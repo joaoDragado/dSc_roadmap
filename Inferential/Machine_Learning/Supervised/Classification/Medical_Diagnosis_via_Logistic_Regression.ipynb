{
 "cells": [
  {
   "cell_type": "code",
   "execution_count": 1,
   "metadata": {},
   "outputs": [
    {
     "name": "stderr",
     "output_type": "stream",
     "text": [
      "/archive/anaconda3/lib/python3.6/site-packages/statsmodels/compat/pandas.py:56: FutureWarning: The pandas.core.datetools module is deprecated and will be removed in a future version. Please use the pandas.tseries module instead.\n",
      "  from pandas.core import datetools\n"
     ]
    }
   ],
   "source": [
    "import numpy as np\n",
    "import pandas as pd\n",
    "import matplotlib as mpl\n",
    "import matplotlib.pyplot as plt\n",
    "import statsmodels.api as sm\n",
    "from statsmodels.formula.api import logit, glm\n",
    "\n",
    "%matplotlib inline\n",
    "plt.rcParams['figure.figsize'] = (15, 5)\n",
    "plt.style.use('ggplot')"
   ]
  },
  {
   "cell_type": "code",
   "execution_count": 2,
   "metadata": {},
   "outputs": [
    {
     "data": {
      "text/html": [
       "<div>\n",
       "<style>\n",
       "    .dataframe thead tr:only-child th {\n",
       "        text-align: right;\n",
       "    }\n",
       "\n",
       "    .dataframe thead th {\n",
       "        text-align: left;\n",
       "    }\n",
       "\n",
       "    .dataframe tbody tr th {\n",
       "        vertical-align: top;\n",
       "    }\n",
       "</style>\n",
       "<table border=\"1\" class=\"dataframe\">\n",
       "  <thead>\n",
       "    <tr style=\"text-align: right;\">\n",
       "      <th></th>\n",
       "      <th>MemberID</th>\n",
       "      <th>InpatientDays</th>\n",
       "      <th>ERVisits</th>\n",
       "      <th>OfficeVisits</th>\n",
       "      <th>Narcotics</th>\n",
       "      <th>DaysSinceLastERVisit</th>\n",
       "      <th>Pain</th>\n",
       "      <th>TotalVisits</th>\n",
       "      <th>ProviderCount</th>\n",
       "      <th>MedicalClaims</th>\n",
       "      <th>ClaimLines</th>\n",
       "      <th>StartedOnCombination</th>\n",
       "      <th>AcuteDrugGapSmall</th>\n",
       "      <th>PoorCare</th>\n",
       "    </tr>\n",
       "  </thead>\n",
       "  <tbody>\n",
       "    <tr>\n",
       "      <th>0</th>\n",
       "      <td>1</td>\n",
       "      <td>0</td>\n",
       "      <td>0</td>\n",
       "      <td>18</td>\n",
       "      <td>1</td>\n",
       "      <td>731.0</td>\n",
       "      <td>10</td>\n",
       "      <td>18</td>\n",
       "      <td>21</td>\n",
       "      <td>93</td>\n",
       "      <td>222</td>\n",
       "      <td>False</td>\n",
       "      <td>0</td>\n",
       "      <td>0</td>\n",
       "    </tr>\n",
       "    <tr>\n",
       "      <th>1</th>\n",
       "      <td>2</td>\n",
       "      <td>1</td>\n",
       "      <td>1</td>\n",
       "      <td>6</td>\n",
       "      <td>1</td>\n",
       "      <td>411.0</td>\n",
       "      <td>0</td>\n",
       "      <td>8</td>\n",
       "      <td>27</td>\n",
       "      <td>19</td>\n",
       "      <td>115</td>\n",
       "      <td>False</td>\n",
       "      <td>1</td>\n",
       "      <td>0</td>\n",
       "    </tr>\n",
       "    <tr>\n",
       "      <th>2</th>\n",
       "      <td>3</td>\n",
       "      <td>0</td>\n",
       "      <td>0</td>\n",
       "      <td>5</td>\n",
       "      <td>3</td>\n",
       "      <td>731.0</td>\n",
       "      <td>10</td>\n",
       "      <td>5</td>\n",
       "      <td>16</td>\n",
       "      <td>27</td>\n",
       "      <td>148</td>\n",
       "      <td>False</td>\n",
       "      <td>5</td>\n",
       "      <td>0</td>\n",
       "    </tr>\n",
       "    <tr>\n",
       "      <th>3</th>\n",
       "      <td>4</td>\n",
       "      <td>0</td>\n",
       "      <td>1</td>\n",
       "      <td>19</td>\n",
       "      <td>0</td>\n",
       "      <td>158.0</td>\n",
       "      <td>34</td>\n",
       "      <td>20</td>\n",
       "      <td>14</td>\n",
       "      <td>59</td>\n",
       "      <td>242</td>\n",
       "      <td>False</td>\n",
       "      <td>0</td>\n",
       "      <td>0</td>\n",
       "    </tr>\n",
       "    <tr>\n",
       "      <th>4</th>\n",
       "      <td>5</td>\n",
       "      <td>8</td>\n",
       "      <td>2</td>\n",
       "      <td>19</td>\n",
       "      <td>3</td>\n",
       "      <td>449.0</td>\n",
       "      <td>10</td>\n",
       "      <td>29</td>\n",
       "      <td>24</td>\n",
       "      <td>51</td>\n",
       "      <td>204</td>\n",
       "      <td>False</td>\n",
       "      <td>0</td>\n",
       "      <td>0</td>\n",
       "    </tr>\n",
       "  </tbody>\n",
       "</table>\n",
       "</div>"
      ],
      "text/plain": [
       "   MemberID  InpatientDays  ERVisits  OfficeVisits  Narcotics  \\\n",
       "0         1              0         0            18          1   \n",
       "1         2              1         1             6          1   \n",
       "2         3              0         0             5          3   \n",
       "3         4              0         1            19          0   \n",
       "4         5              8         2            19          3   \n",
       "\n",
       "   DaysSinceLastERVisit  Pain  TotalVisits  ProviderCount  MedicalClaims  \\\n",
       "0                 731.0    10           18             21             93   \n",
       "1                 411.0     0            8             27             19   \n",
       "2                 731.0    10            5             16             27   \n",
       "3                 158.0    34           20             14             59   \n",
       "4                 449.0    10           29             24             51   \n",
       "\n",
       "   ClaimLines  StartedOnCombination  AcuteDrugGapSmall  PoorCare  \n",
       "0         222                 False                  0         0  \n",
       "1         115                 False                  1         0  \n",
       "2         148                 False                  5         0  \n",
       "3         242                 False                  0         0  \n",
       "4         204                 False                  0         0  "
      ]
     },
     "execution_count": 2,
     "metadata": {},
     "output_type": "execute_result"
    }
   ],
   "source": [
    "quality = pd.read_csv('../data/quality.csv')\n",
    "quality.head()"
   ]
  },
  {
   "cell_type": "code",
   "execution_count": 3,
   "metadata": {},
   "outputs": [
    {
     "data": {
      "text/plain": [
       "0    98\n",
       "1    33\n",
       "Name: PoorCare, dtype: int64"
      ]
     },
     "execution_count": 3,
     "metadata": {},
     "output_type": "execute_result"
    }
   ],
   "source": [
    "# 0 for good care, 1 for poor care\n",
    "quality.PoorCare.value_counts()"
   ]
  },
  {
   "cell_type": "code",
   "execution_count": 4,
   "metadata": {},
   "outputs": [
    {
     "data": {
      "text/plain": [
       "0.7480916030534351"
      ]
     },
     "execution_count": 4,
     "metadata": {},
     "output_type": "execute_result"
    }
   ],
   "source": [
    "# baseline accuracy is in this case is num of good care / sample size.\n",
    "# Our model should perform better than this.\n",
    "98. / quality.shape[0]"
   ]
  },
  {
   "cell_type": "markdown",
   "metadata": {},
   "source": [
    "We need to randomly split our data into the test and train set. For now, I'll use python's random number generator. Ideally, we want the same rows as in R, but I'll only implement this when I know how to run R from Python."
   ]
  },
  {
   "cell_type": "code",
   "execution_count": 6,
   "metadata": {},
   "outputs": [],
   "source": [
    "'''\n",
    "Split dataset into tran/ test sets , while maintaining the distribution found in the original TenYearCHD. \n",
    "from sklearn 0.18 & upwards, a lot of these modules have been moved to sklearn.model_selection \n",
    "'''\n",
    "from sklearn.model_selection import StratifiedShuffleSplit\n",
    "\n",
    "sss = StratifiedShuffleSplit(n_splits=1, test_size=0.25, random_state=0)\n",
    "\n",
    "for train_index, test_index in sss.split(quality, quality['PoorCare']):\n",
    "    qualityTrain = quality.iloc[train_index,:]\n",
    "    qualityTest = quality.iloc[test_index,:]\n"
   ]
  },
  {
   "cell_type": "markdown",
   "metadata": {},
   "source": [
    "### Interpreting the Model\n",
    "\n",
    "#### Multicollinearity could be a problem\n",
    "- **Do the sign of the coefficients (+-) make sense?**\n",
    "- **Check correlations between independent variables**, with Dataframe.corr()"
   ]
  },
  {
   "cell_type": "code",
   "execution_count": 8,
   "metadata": {},
   "outputs": [
    {
     "name": "stdout",
     "output_type": "stream",
     "text": [
      "Optimization terminated successfully.\n",
      "         Current function value: 0.438968\n",
      "         Iterations 7\n",
      "                           Logit Regression Results                           \n",
      "==============================================================================\n",
      "Dep. Variable:               PoorCare   No. Observations:                   98\n",
      "Model:                          Logit   Df Residuals:                       95\n",
      "Method:                           MLE   Df Model:                            2\n",
      "Date:                Thu, 18 Jan 2018   Pseudo R-squ.:                  0.2270\n",
      "Time:                        19:18:17   Log-Likelihood:                -43.019\n",
      "converged:                       True   LL-Null:                       -55.651\n",
      "                                        LLR p-value:                 3.264e-06\n",
      "================================================================================\n",
      "                   coef    std err          z      P>|z|      [0.025      0.975]\n",
      "--------------------------------------------------------------------------------\n",
      "Intercept       -2.2517      0.490     -4.594      0.000      -3.212      -1.291\n",
      "OfficeVisits     0.0418      0.028      1.495      0.135      -0.013       0.097\n",
      "Narcotics        0.1280      0.043      2.978      0.003       0.044       0.212\n",
      "================================================================================\n"
     ]
    }
   ],
   "source": [
    "# Logit regression using \n",
    "model = logit('PoorCare ~ OfficeVisits + Narcotics', qualityTrain).fit()\n",
    "# same using GLM\n",
    "# model = glm('PoorCare ~ OfficeVisits + Narcotics', qualityTrain, family=sm.families.Binomial()).fit()\n",
    "print(model.summary())"
   ]
  },
  {
   "cell_type": "code",
   "execution_count": 9,
   "metadata": {},
   "outputs": [
    {
     "data": {
      "text/plain": [
       "(92.037796009694631, 99.79269844570635)"
      ]
     },
     "execution_count": 9,
     "metadata": {},
     "output_type": "execute_result"
    }
   ],
   "source": [
    "# AIC & BIC offer a measure to compare models ;  the smaller, the better.\n",
    "model.aic, model.bic"
   ]
  },
  {
   "cell_type": "code",
   "execution_count": 13,
   "metadata": {},
   "outputs": [
    {
     "data": {
      "text/plain": [
       "count    98.000000\n",
       "mean      0.255102\n",
       "std       0.231474\n",
       "min       0.095203\n",
       "25%       0.132878\n",
       "50%       0.159546\n",
       "75%       0.243992\n",
       "max       0.998449\n",
       "dtype: float64"
      ]
     },
     "execution_count": 13,
     "metadata": {},
     "output_type": "execute_result"
    }
   ],
   "source": [
    "# use model to assess our predictions on the train set values\n",
    "predict = model.predict(qualityTrain)\n",
    "pd.Series(predict).describe()"
   ]
  },
  {
   "cell_type": "markdown",
   "metadata": {},
   "source": [
    "---"
   ]
  },
  {
   "cell_type": "markdown",
   "metadata": {},
   "source": [
    "### Threshold Values, Confusion Matrix"
   ]
  },
  {
   "cell_type": "code",
   "execution_count": 14,
   "metadata": {},
   "outputs": [
    {
     "data": {
      "text/plain": [
       "120    0\n",
       "111    1\n",
       "73     0\n",
       "28     1\n",
       "130    0\n",
       "66     0\n",
       "69     0\n",
       "106    1\n",
       "53     0\n",
       "86     0\n",
       "59     0\n",
       "32     0\n",
       "8      0\n",
       "94     0\n",
       "107    0\n",
       "51     0\n",
       "68     0\n",
       "57     1\n",
       "93     0\n",
       "71     0\n",
       "114    0\n",
       "83     1\n",
       "124    0\n",
       "119    0\n",
       "110    0\n",
       "3      0\n",
       "109    1\n",
       "76     0\n",
       "91     0\n",
       "70     0\n",
       "      ..\n",
       "82     0\n",
       "121    0\n",
       "34     0\n",
       "88     0\n",
       "9      0\n",
       "41     0\n",
       "16     0\n",
       "0      0\n",
       "122    0\n",
       "7      0\n",
       "40     0\n",
       "116    1\n",
       "127    0\n",
       "1      0\n",
       "15     0\n",
       "72     0\n",
       "2      0\n",
       "60     0\n",
       "77     0\n",
       "103    0\n",
       "12     0\n",
       "13     0\n",
       "56     0\n",
       "21     0\n",
       "10     0\n",
       "80     0\n",
       "35     0\n",
       "37     0\n",
       "117    0\n",
       "47     0\n",
       "Length: 98, dtype: int32"
      ]
     },
     "execution_count": 14,
     "metadata": {},
     "output_type": "execute_result"
    }
   ],
   "source": [
    "# predicted values are probabilities , \n",
    "# using mask to turn them to True / False, and convert to int to get 0s/1s.\n",
    "(predict >=0.5).astype(int) "
   ]
  },
  {
   "cell_type": "code",
   "execution_count": 11,
   "metadata": {},
   "outputs": [],
   "source": [
    "'''\n",
    "Function to create & display the confusion matrix for any threshold value, \n",
    "using ipywidgets to check how threshold values changes TPR, , TNR, ACC, ER\n",
    "'''\n",
    "def confusion_matrix(predict, actual, t=0.5):\n",
    "    table = pd.DataFrame({'Model':(predict >= t).astype(int), 'Actual':actual})\n",
    "    confusion_matrix = pd.crosstab(table.Model, table.Actual)\n",
    "    total = confusion_matrix.values.sum()\n",
    "    tpr = confusion_matrix.values[1,1] /(confusion_matrix.values[1,1] + confusion_matrix.values[0,1])\n",
    "    fpr = confusion_matrix.values[1,0] /(confusion_matrix.values[1,1] + confusion_matrix.values[0,1])\n",
    "    acc = (confusion_matrix.values[0,0] + confusion_matrix.values[1,1]) / total\n",
    "    ter = (confusion_matrix.values[0,1] + confusion_matrix.values[1,0]) / total\n",
    "    print('TPR : {:.2f} | FPR : {:.2f} | Accuracy : {:.2f} | Total Error : {:.2f}'.format(tpr, fpr, acc, ter))\n",
    "    return confusion_matrix"
   ]
  },
  {
   "cell_type": "code",
   "execution_count": 15,
   "metadata": {},
   "outputs": [
    {
     "name": "stderr",
     "output_type": "stream",
     "text": [
      "/archive/anaconda3/lib/python3.6/site-packages/traitlets/traitlets.py:567: FutureWarning: comparison to `None` will result in an elementwise object comparison in the future.\n",
      "  silent = bool(old_value == new_value)\n"
     ]
    },
    {
     "data": {
      "application/vnd.jupyter.widget-view+json": {
       "model_id": "d1e9e74709924c8d8fc6775855326562"
      }
     },
     "metadata": {},
     "output_type": "display_data"
    },
    {
     "data": {
      "text/plain": [
       "<function __main__.confusion_matrix>"
      ]
     },
     "execution_count": 15,
     "metadata": {},
     "output_type": "execute_result"
    }
   ],
   "source": [
    "from ipywidgets import interact, fixed\n",
    "\n",
    "interact(confusion_matrix, predict=fixed(predict), actual=fixed(qualityTrain.PoorCare.values), \n",
    "         t=(0.0, 1.0, 0.05))"
   ]
  },
  {
   "cell_type": "markdown",
   "metadata": {},
   "source": [
    "\n",
    "### Threshold value (t) sets the rounding point for the projected probabilitites.\n",
    "\n",
    "- `When t is small, True Negatives are more concrete, but False Positives are high. `\n",
    "\n",
    "- `When t is large, True Positives are more concrete, but False Negatives are high.`"
   ]
  },
  {
   "cell_type": "markdown",
   "metadata": {},
   "source": [
    "---"
   ]
  },
  {
   "cell_type": "markdown",
   "metadata": {},
   "source": [
    "### Specificity and selectivity\n",
    "\n",
    "Now that we built the model, we can check its specificity, sensitivity & accuracy. They are defined by:\n",
    "\n",
    "- **Sensitivity** or **True Positive Rate** : the percentage of actual positives we classify correctly\n",
    "- **Specificity** or **True Negative Rate** : the percentage of actual negatives we classify correctly\n",
    "- **Accuracy**  : the percentage of correct classifications by our model\n",
    "\n",
    "\n",
    "sensitivity | specificity | accuracy\n",
    "----------- | ----------- | --------\n",
    "$$\\mathrm{\\frac{TP}{TP+FN}}$$ | $$\\mathrm{\\frac{TN}{TN+FP}}$$ | $$\\mathrm{\\frac{TP+TN}{Sample Size}}$$ \n",
    "\n",
    "- A model with **high** threshold value , exhibits **low** sensitivity & **high** specificity.\n",
    "- A model with **low** threshold value , exhibits **high** sensitivity & **low** specificity.\n"
   ]
  },
  {
   "cell_type": "markdown",
   "metadata": {},
   "source": [
    "---"
   ]
  },
  {
   "cell_type": "markdown",
   "metadata": {
    "collapsed": true
   },
   "source": [
    "### Receiver Operator Characteristic  (ROC) Curve\n",
    "- **How the True positive Rate** progresses in relation to the **False Positive Rate** (which basically is **(1-TrueNegativeRate)**), and the corresponding **threshold values** these trade-offs occur."
   ]
  },
  {
   "cell_type": "code",
   "execution_count": 16,
   "metadata": {},
   "outputs": [
    {
     "data": {
      "text/plain": [
       "<matplotlib.legend.Legend at 0xa8379bac>"
      ]
     },
     "execution_count": 16,
     "metadata": {},
     "output_type": "execute_result"
    },
    {
     "data": {
      "image/png": "[encoded data removed]",
      "text/plain": [
       "<matplotlib.figure.Figure at 0xa9ed3bec>"
      ]
     },
     "metadata": {},
     "output_type": "display_data"
    }
   ],
   "source": [
    "from sklearn.metrics import roc_curve\n",
    "\n",
    "fpr, tpr, thresholds = roc_curve(qualityTrain.PoorCare.values, predict)\n",
    "\n",
    "plt.figure(figsize=(10, 6))\n",
    "plt.plot(fpr, tpr, label='ROC Curve', linewidth=3)\n",
    "plt.plot(fpr, thresholds, '.',markersize=12, label='Threshold Value')\n",
    "plt.title('ROC Curve')\n",
    "plt.xlabel('False Positive Rate')\n",
    "plt.ylabel('True Positive Rate')\n",
    "plt.legend(loc=7)"
   ]
  },
  {
   "cell_type": "markdown",
   "metadata": {
    "collapsed": true
   },
   "source": [
    "### Accuracy\n",
    "- ** Area under the ROC Curve (AUC)**\n",
    "    - Signifies the probability of, given a random positive and negative, guessing which is which correctly.\n",
    "    - Less affected by sample balance than accuracy.\n",
    "- **What is a good AUC?**\n",
    "    - Maximum of 1 (perfect prediction)\n",
    "    - Minimum of 0.5 (just guessing)"
   ]
  },
  {
   "cell_type": "code",
   "execution_count": 40,
   "metadata": {},
   "outputs": [
    {
     "data": {
      "text/plain": [
       "0.7745215311004785"
      ]
     },
     "execution_count": 40,
     "metadata": {},
     "output_type": "execute_result"
    }
   ],
   "source": [
    "# Area under the ROC Curve\n",
    "from sklearn.metrics import roc_auc_score\n",
    "\n",
    "roc_auc_score(qualityTrain.PoorCare.values, predict)"
   ]
  },
  {
   "cell_type": "markdown",
   "metadata": {},
   "source": [
    "### Need to differentiate between Accuracy & Area under the ROC Curve.\n",
    "\n",
    "- Accuracy, TPP, TNR, etc. , evaluate the binary prediction strength (Yes/No, True/False).\n",
    "\n",
    "- ROC & AUC evaluate the actual probabilities, i.e. the nodel's ability to distinguish between good & poor.  "
   ]
  },
  {
   "cell_type": "markdown",
   "metadata": {},
   "source": [
    "---"
   ]
  }
 ],
 "metadata": {
  "kernelspec": {
   "display_name": "Python 3",
   "language": "python",
   "name": "python3"
  },
  "language_info": {
   "codemirror_mode": {
    "name": "ipython",
    "version": 3
   },
   "file_extension": ".py",
   "mimetype": "text/x-python",
   "name": "python",
   "nbconvert_exporter": "python",
   "pygments_lexer": "ipython3",
   "version": "3.6.1"
  }
 },
 "nbformat": 4,
 "nbformat_minor": 1
}
